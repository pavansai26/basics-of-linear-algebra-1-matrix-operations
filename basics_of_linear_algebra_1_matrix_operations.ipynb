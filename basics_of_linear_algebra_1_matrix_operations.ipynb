{
  "nbformat": 4,
  "nbformat_minor": 0,
  "metadata": {
    "colab": {
      "name": "basics of linear algebra 1 matrix operations.ipynb",
      "provenance": [],
      "private_outputs": true,
      "authorship_tag": "ABX9TyOq5Fff12qZIXX44K38nZGn",
      "include_colab_link": true
    },
    "kernelspec": {
      "name": "python3",
      "display_name": "Python 3"
    },
    "accelerator": "TPU"
  },
  "cells": [
    {
      "cell_type": "markdown",
      "metadata": {
        "id": "view-in-github",
        "colab_type": "text"
      },
      "source": [
        "<a href=\"https://colab.research.google.com/github/pavansai26/basics-of-linear-algebra-1-matrix-operations/blob/master/basics_of_linear_algebra_1_matrix_operations.ipynb\" target=\"_parent\"><img src=\"https://colab.research.google.com/assets/colab-badge.svg\" alt=\"Open In Colab\"/></a>"
      ]
    },
    {
      "cell_type": "code",
      "metadata": {
        "id": "7cZGfUJWb3Vf",
        "colab_type": "code",
        "colab": {}
      },
      "source": [
        "# Basic opearations \n",
        "import numpy as np\n",
        "import math\n",
        "\n",
        "np.random.seed(100)\n",
        "\n",
        "n=10\n",
        "d=4\n",
        "\n",
        "X1 = np.random.rand(n,d) # n data points of d-dim each\n",
        "X2 = np.random.rand(n,d) # n data points of d-dim each\n",
        "\n",
        "w = np.random.rand(d)  # a d-dim vector\n",
        "\n",
        "print(X1)\n",
        "print(\"************************************************************\")\n",
        "print(X2)\n",
        "print(\"************************************************************\")\n",
        "print(X1+X2)\n",
        "print(\"************************************************************\")\n",
        "\n",
        "print(X1*X2) # hadammard product (or) element wise product\n",
        "print(\"************************************************************\")\n",
        "\n",
        "print(np.matmul(X1,X2)) #https://docs.scipy.org/doc/numpy/reference/generated/numpy.matmul.html#numpy.matmul\n",
        "print(\"************************************************************\")\n"
      ],
      "execution_count": 0,
      "outputs": []
    },
    {
      "cell_type": "code",
      "metadata": {
        "id": "Cyf0hYsJcPJm",
        "colab_type": "code",
        "colab": {}
      },
      "source": [
        "print((np.matmul(X1,X2.T)).shape) #https://docs.scipy.org/doc/numpy/reference/generated/numpy.matmul.html#numpy.matmul\n",
        "print(\"************************************************************\")"
      ],
      "execution_count": 0,
      "outputs": []
    },
    {
      "cell_type": "code",
      "metadata": {
        "id": "ACqPcVivdsab",
        "colab_type": "code",
        "colab": {}
      },
      "source": [
        "# w.X\n",
        "\n",
        "print(np.dot(w,X1[0,:]))\n",
        "\n",
        "print(np.matmul(w,X1.T)) # alwasys make sure the dimensions match.\n",
        "\n",
        "print(np.matmul(X1, w.T))\n",
        "\n",
        "#print(np.matmul(w,X1))"
      ],
      "execution_count": 0,
      "outputs": []
    },
    {
      "cell_type": "code",
      "metadata": {
        "id": "hxiFzsgxep65",
        "colab_type": "code",
        "colab": {}
      },
      "source": [
        "from IPython.display import Image\n",
        "from IPython.core.display import HTML "
      ],
      "execution_count": 0,
      "outputs": []
    },
    {
      "cell_type": "code",
      "metadata": {
        "id": "VUaoct8EeCLV",
        "colab_type": "code",
        "colab": {}
      },
      "source": [
        "# Forebnius norm: \n",
        "Image(url= \"https://i.imgur.com/hNSMzzE.png\", width=300)"
      ],
      "execution_count": 0,
      "outputs": []
    },
    {
      "cell_type": "code",
      "metadata": {
        "id": "nTo8cZyYeffI",
        "colab_type": "code",
        "colab": {}
      },
      "source": [
        "#https://docs.scipy.org/doc/numpy/reference/generated/numpy.linalg.norm.html\n",
        "print(np.linalg.norm(X1, 'fro'))\n",
        "\n",
        "\n",
        "# implement using the formula\n",
        "sh = X1.shape;\n",
        "print(sh)\n",
        "\n",
        "sum = 0\n",
        "for i in range(sh[0]):\n",
        "  for j in range(sh[1]):\n",
        "    sum += X1[i,j]**2\n",
        "\n",
        "print(math.sqrt(sum))\n"
      ],
      "execution_count": 0,
      "outputs": []
    },
    {
      "cell_type": "code",
      "metadata": {
        "id": "n6PXw7_MgCRN",
        "colab_type": "code",
        "colab": {}
      },
      "source": [
        "print(np.linalg.norm(X1,2))"
      ],
      "execution_count": 0,
      "outputs": []
    },
    {
      "cell_type": "code",
      "metadata": {
        "id": "qF0tCOoxgnia",
        "colab_type": "code",
        "colab": {}
      },
      "source": [
        ""
      ],
      "execution_count": 0,
      "outputs": []
    }
  ]
}